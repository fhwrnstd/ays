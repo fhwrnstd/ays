{
  "nbformat": 4,
  "nbformat_minor": 0,
  "metadata": {
    "colab": {
      "provenance": [],
      "collapsed_sections": [],
      "authorship_tag": "ABX9TyNTveNTtGZj3tvv+0u7JfGP",
      "include_colab_link": true
    },
    "kernelspec": {
      "name": "python3",
      "display_name": "Python 3"
    },
    "language_info": {
      "name": "python"
    }
  },
  "cells": [
    {
      "cell_type": "markdown",
      "metadata": {
        "id": "view-in-github",
        "colab_type": "text"
      },
      "source": [
        "<a href=\"https://colab.research.google.com/github/fhwrnstd/ays/blob/main/Testversuch.ipynb\" target=\"_parent\"><img src=\"https://colab.research.google.com/assets/colab-badge.svg\" alt=\"Open In Colab\"/></a>"
      ]
    },
    {
      "cell_type": "markdown",
      "source": [
        "**das ist ein erster Versuch #Test**"
      ],
      "metadata": {
        "id": "sr0p-WHNEMY4"
      }
    },
    {
      "cell_type": "code",
      "execution_count": 10,
      "metadata": {
        "colab": {
          "base_uri": "https://localhost:8080/"
        },
        "id": "o6B-hQlkDZcD",
        "outputId": "f7af4411-f976-43ea-aef2-a7e6c947a908"
      },
      "outputs": [
        {
          "output_type": "stream",
          "name": "stdout",
          "text": [
            "hello1\n",
            "hello2\n"
          ]
        }
      ],
      "source": [
        "print(\"hello1\")\n",
        "print(\"hello2\")"
      ]
    },
    {
      "cell_type": "code",
      "source": [
        "print(\"hello3\")"
      ],
      "metadata": {
        "colab": {
          "base_uri": "https://localhost:8080/"
        },
        "id": "YBluz-9HDsTY",
        "outputId": "a85a8309-06a0-4936-8c5d-f0c8346f823f"
      },
      "execution_count": 11,
      "outputs": [
        {
          "output_type": "stream",
          "name": "stdout",
          "text": [
            "hello3\n"
          ]
        }
      ]
    },
    {
      "cell_type": "code",
      "source": [
        "print(\"hello4\")"
      ],
      "metadata": {
        "colab": {
          "base_uri": "https://localhost:8080/"
        },
        "id": "1ySq1BkdEdrN",
        "outputId": "f24324fc-4844-4c43-f8c8-25a3d5aa4a5c"
      },
      "execution_count": 12,
      "outputs": [
        {
          "output_type": "stream",
          "name": "stdout",
          "text": [
            "hello4\n"
          ]
        }
      ]
    }
  ]
}